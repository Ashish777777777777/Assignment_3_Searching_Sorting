{
 "cells": [
  {
   "cell_type": "code",
   "execution_count": 1,
   "id": "a15af1b9",
   "metadata": {},
   "outputs": [
    {
     "name": "stdout",
     "output_type": "stream",
     "text": [
      "Target 11 found at index 5\n"
     ]
    }
   ],
   "source": [
    "def binary_search(arr, target):          # Q 1\n",
    "    left, right = 0, len(arr) - 1\n",
    "    \n",
    "    while left <= right:\n",
    "        mid = left + (right - left) // 2  # Calculate the middle index\n",
    "        \n",
    "        if arr[mid] == target:\n",
    "            return mid  # Found the target, return its index\n",
    "        elif arr[mid] < target:\n",
    "            left = mid + 1  # Target is in the right half\n",
    "        else:\n",
    "            right = mid - 1  # Target is in the left half\n",
    "            \n",
    "    return -1  # Target not found in the array\n",
    "\n",
    "# Example \n",
    "sorted_array = [1, 3, 5, 7, 9, 11, 13, 15, 17, 19]\n",
    "target = 11\n",
    "result = binary_search(sorted_array, target)\n",
    "\n",
    "if result != -1:\n",
    "    print(f\"Target {target} found at index {result}\")\n",
    "else:\n",
    "    print(f\"Target {target} not found in the array\")\n"
   ]
  },
  {
   "cell_type": "code",
   "execution_count": 2,
   "id": "d0f459bb",
   "metadata": {},
   "outputs": [
    {
     "name": "stdout",
     "output_type": "stream",
     "text": [
      "Sorted list: [2, 4, 7, 8, 10, 12, 15]\n"
     ]
    }
   ],
   "source": [
    "def merge_sort(arr):                  # Q 2\n",
    "    if len(arr) <= 1:\n",
    "        return arr\n",
    "    \n",
    "    # Split the array into two halves\n",
    "    mid = len(arr) // 2\n",
    "    left_half = arr[:mid]\n",
    "    right_half = arr[mid:]\n",
    "    \n",
    "    # Recursively sort the two halves\n",
    "    left_half = merge_sort(left_half)\n",
    "    right_half = merge_sort(right_half)\n",
    "    \n",
    "    # Merge the sorted halves\n",
    "    merged = merge(left_half, right_half)\n",
    "    return merged\n",
    "\n",
    "def merge(left, right):\n",
    "    merged = []\n",
    "    left_index, right_index = 0, 0\n",
    "    \n",
    "    # Compare elements from both halves and merge them in sorted order\n",
    "    while left_index < len(left) and right_index < len(right):\n",
    "        if left[left_index] < right[right_index]:\n",
    "            merged.append(left[left_index])\n",
    "            left_index += 1\n",
    "        else:\n",
    "            merged.append(right[right_index])\n",
    "            right_index += 1\n",
    "    \n",
    "    # Append remaining elements from both halves (if any)\n",
    "    merged.extend(left[left_index:])\n",
    "    merged.extend(right[right_index:])\n",
    "    \n",
    "    return merged\n",
    "\n",
    "# Example \n",
    "input_list = [12, 4, 7, 10, 2, 15, 8]\n",
    "sorted_list = merge_sort(input_list)\n",
    "print(\"Sorted list:\", sorted_list)\n"
   ]
  },
  {
   "cell_type": "code",
   "execution_count": 3,
   "id": "9a37dc41",
   "metadata": {},
   "outputs": [
    {
     "name": "stdout",
     "output_type": "stream",
     "text": [
      "[1, 1, 2, 3, 3, 4, 5, 5, 5, 6, 9]\n"
     ]
    }
   ],
   "source": [
    "def quick_sort(arr):          # Q 3\n",
    "    if len(arr) <= 1:\n",
    "        return arr\n",
    "\n",
    "    pivot = arr[len(arr) // 2]\n",
    "    left = [x for x in arr if x < pivot]\n",
    "    middle = [x for x in arr if x == pivot]\n",
    "    right = [x for x in arr if x > pivot]\n",
    "\n",
    "    return quick_sort(left) + middle + quick_sort(right)\n",
    "\n",
    "# Example usage\n",
    "unsorted_list = [3, 1, 4, 1, 5, 9, 2, 6, 5, 3, 5]\n",
    "sorted_list = quick_sort(unsorted_list)\n",
    "print(sorted_list)\n"
   ]
  },
  {
   "cell_type": "code",
   "execution_count": 4,
   "id": "d0a234b4",
   "metadata": {},
   "outputs": [
    {
     "name": "stdout",
     "output_type": "stream",
     "text": [
      "[1, 1, 2, 3, 3, 4, 5, 5, 5, 6, 9]\n"
     ]
    }
   ],
   "source": [
    "def insertion_sort(arr):                    # Q 4\n",
    "    for i in range(1, len(arr)):\n",
    "        key = arr[i]\n",
    "        j = i - 1\n",
    "\n",
    "        while j >= 0 and key < arr[j]:\n",
    "            arr[j + 1] = arr[j]\n",
    "            j -= 1\n",
    "        \n",
    "        arr[j + 1] = key\n",
    "\n",
    "# Example \n",
    "unsorted_list = [3, 1, 4, 1, 5, 9, 2, 6, 5, 3, 5]\n",
    "insertion_sort(unsorted_list)\n",
    "print(unsorted_list)\n"
   ]
  },
  {
   "cell_type": "code",
   "execution_count": 5,
   "id": "f3095b19",
   "metadata": {},
   "outputs": [
    {
     "name": "stdout",
     "output_type": "stream",
     "text": [
      "['apple', 'banana', 'banana', 'cherry', 'date', 'kiwi']\n"
     ]
    }
   ],
   "source": [
    "def dictionary_sort(strings):                 # Q 5\n",
    "    sorted_strings = sorted(strings)\n",
    "    return sorted_strings\n",
    "\n",
    "# Example \n",
    "string_list = [\"apple\", \"banana\", \"cherry\", \"date\", \"banana\", \"kiwi\"]\n",
    "sorted_list = dictionary_sort(string_list)\n",
    "print(sorted_list)\n"
   ]
  },
  {
   "cell_type": "code",
   "execution_count": null,
   "id": "3fb7e8e7",
   "metadata": {},
   "outputs": [],
   "source": []
  }
 ],
 "metadata": {
  "kernelspec": {
   "display_name": "Python 3 (ipykernel)",
   "language": "python",
   "name": "python3"
  },
  "language_info": {
   "codemirror_mode": {
    "name": "ipython",
    "version": 3
   },
   "file_extension": ".py",
   "mimetype": "text/x-python",
   "name": "python",
   "nbconvert_exporter": "python",
   "pygments_lexer": "ipython3",
   "version": "3.10.9"
  }
 },
 "nbformat": 4,
 "nbformat_minor": 5
}
